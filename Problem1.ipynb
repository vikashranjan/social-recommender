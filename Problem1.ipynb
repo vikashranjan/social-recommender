{
 "cells": [
  {
   "cell_type": "code",
   "execution_count": 1,
   "metadata": {},
   "outputs": [],
   "source": [
    "# Connect to DB"
   ]
  },
  {
   "cell_type": "code",
   "execution_count": 2,
   "metadata": {},
   "outputs": [],
   "source": [
    "import sqlite3\n",
    "import pandas as pd\n",
    "import numpy as np\n",
    "from surprise import accuracy\n",
    "from surprise.model_selection.validation import cross_validate\n",
    "from surprise.dataset import Dataset\n",
    "from surprise.reader import Reader\n",
    "from surprise import SVD\n",
    "from surprise import KNNBasic\n",
    "from surprise import KNNWithMeans\n",
    "from surprise.model_selection import cross_validate\n",
    "from surprise import NMF\n",
    "from surprise.model_selection import train_test_split\n",
    "import haversine as hs"
   ]
  },
  {
   "cell_type": "code",
   "execution_count": 3,
   "metadata": {},
   "outputs": [],
   "source": [
    "conn = sqlite3.connect('/home/vikash/scb-test/fsdata.db/fsdata.db')"
   ]
  },
  {
   "cell_type": "markdown",
   "metadata": {},
   "source": [
    "# For the top 10 users (with more checkins) build: \n",
    "## Problem 1 (A basket of recommendation : venues(places))"
   ]
  },
  {
   "cell_type": "code",
   "execution_count": 4,
   "metadata": {},
   "outputs": [],
   "source": [
    "#For this problem will apply collaborative filtering to learn the ratings for movies.\n",
    "#Leared rating will then be used for recommendation.\n",
    "#Will use matrix factorization approach to learn ratings."
   ]
  },
  {
   "cell_type": "code",
   "execution_count": 5,
   "metadata": {},
   "outputs": [],
   "source": [
    "# Get all ratings of venues"
   ]
  },
  {
   "cell_type": "code",
   "execution_count": 6,
   "metadata": {},
   "outputs": [],
   "source": [
    "venue_ratings=pd.read_sql_query(\"select user_id,venue_id,rating from ratings\", conn)"
   ]
  },
  {
   "cell_type": "code",
   "execution_count": 7,
   "metadata": {},
   "outputs": [
    {
     "data": {
      "text/html": [
       "<div>\n",
       "<style scoped>\n",
       "    .dataframe tbody tr th:only-of-type {\n",
       "        vertical-align: middle;\n",
       "    }\n",
       "\n",
       "    .dataframe tbody tr th {\n",
       "        vertical-align: top;\n",
       "    }\n",
       "\n",
       "    .dataframe thead th {\n",
       "        text-align: right;\n",
       "    }\n",
       "</style>\n",
       "<table border=\"1\" class=\"dataframe\">\n",
       "  <thead>\n",
       "    <tr style=\"text-align: right;\">\n",
       "      <th></th>\n",
       "      <th>user_id</th>\n",
       "      <th>venue_id</th>\n",
       "      <th>rating</th>\n",
       "    </tr>\n",
       "  </thead>\n",
       "  <tbody>\n",
       "    <tr>\n",
       "      <th>0</th>\n",
       "      <td>1</td>\n",
       "      <td>1</td>\n",
       "      <td>5</td>\n",
       "    </tr>\n",
       "    <tr>\n",
       "      <th>1</th>\n",
       "      <td>1</td>\n",
       "      <td>51</td>\n",
       "      <td>4</td>\n",
       "    </tr>\n",
       "    <tr>\n",
       "      <th>2</th>\n",
       "      <td>1</td>\n",
       "      <td>51</td>\n",
       "      <td>2</td>\n",
       "    </tr>\n",
       "    <tr>\n",
       "      <th>3</th>\n",
       "      <td>1</td>\n",
       "      <td>51</td>\n",
       "      <td>5</td>\n",
       "    </tr>\n",
       "    <tr>\n",
       "      <th>4</th>\n",
       "      <td>1</td>\n",
       "      <td>52</td>\n",
       "      <td>5</td>\n",
       "    </tr>\n",
       "    <tr>\n",
       "      <th>...</th>\n",
       "      <td>...</td>\n",
       "      <td>...</td>\n",
       "      <td>...</td>\n",
       "    </tr>\n",
       "    <tr>\n",
       "      <th>2809575</th>\n",
       "      <td>2153498</td>\n",
       "      <td>91385</td>\n",
       "      <td>2</td>\n",
       "    </tr>\n",
       "    <tr>\n",
       "      <th>2809576</th>\n",
       "      <td>2153499</td>\n",
       "      <td>783</td>\n",
       "      <td>2</td>\n",
       "    </tr>\n",
       "    <tr>\n",
       "      <th>2809577</th>\n",
       "      <td>2153500</td>\n",
       "      <td>91385</td>\n",
       "      <td>2</td>\n",
       "    </tr>\n",
       "    <tr>\n",
       "      <th>2809578</th>\n",
       "      <td>2153501</td>\n",
       "      <td>68691</td>\n",
       "      <td>2</td>\n",
       "    </tr>\n",
       "    <tr>\n",
       "      <th>2809579</th>\n",
       "      <td>2153502</td>\n",
       "      <td>783</td>\n",
       "      <td>2</td>\n",
       "    </tr>\n",
       "  </tbody>\n",
       "</table>\n",
       "<p>2809580 rows × 3 columns</p>\n",
       "</div>"
      ],
      "text/plain": [
       "         user_id  venue_id  rating\n",
       "0              1         1       5\n",
       "1              1        51       4\n",
       "2              1        51       2\n",
       "3              1        51       5\n",
       "4              1        52       5\n",
       "...          ...       ...     ...\n",
       "2809575  2153498     91385       2\n",
       "2809576  2153499       783       2\n",
       "2809577  2153500     91385       2\n",
       "2809578  2153501     68691       2\n",
       "2809579  2153502       783       2\n",
       "\n",
       "[2809580 rows x 3 columns]"
      ]
     },
     "execution_count": 7,
     "metadata": {},
     "output_type": "execute_result"
    }
   ],
   "source": [
    "venue_ratings"
   ]
  },
  {
   "cell_type": "code",
   "execution_count": 8,
   "metadata": {},
   "outputs": [],
   "source": [
    "#min rating\n",
    "min_rating=min(venue_ratings.rating)"
   ]
  },
  {
   "cell_type": "code",
   "execution_count": 9,
   "metadata": {},
   "outputs": [],
   "source": [
    "#max rating\n",
    "max_rating=max(venue_ratings.rating)"
   ]
  },
  {
   "cell_type": "code",
   "execution_count": 10,
   "metadata": {},
   "outputs": [],
   "source": [
    "# Top 10 users with most checkins\n",
    "checkins=venue_ratings.groupby(['user_id']).size().reset_index(name='counts').sort_values(by='counts', ascending=False)"
   ]
  },
  {
   "cell_type": "code",
   "execution_count": 11,
   "metadata": {},
   "outputs": [],
   "source": [
    "top_10_checkins=list(checkins[:10].user_id)"
   ]
  },
  {
   "cell_type": "code",
   "execution_count": 13,
   "metadata": {},
   "outputs": [
    {
     "data": {
      "text/plain": [
       "[30200, 54953, 103224, 281, 4442, 79082, 41460, 56474, 61219, 46040]"
      ]
     },
     "execution_count": 13,
     "metadata": {},
     "output_type": "execute_result"
    }
   ],
   "source": [
    "top_10_checkins"
   ]
  },
  {
   "cell_type": "code",
   "execution_count": 12,
   "metadata": {},
   "outputs": [],
   "source": [
    "string_ints = [str(i) for i in top_10_checkins]\n",
    "\n",
    "str_of_ints = \",\".join(string_ints)"
   ]
  },
  {
   "cell_type": "code",
   "execution_count": 140,
   "metadata": {},
   "outputs": [],
   "source": [
    "#User locations\n",
    "user_locations = pd.read_sql_query(\"select id,latitude,longitude from users where id IN ({})\".format(str_of_ints), conn)"
   ]
  },
  {
   "cell_type": "code",
   "execution_count": 171,
   "metadata": {},
   "outputs": [],
   "source": [
    "user_locations=user_locations.set_index('id')"
   ]
  },
  {
   "cell_type": "code",
   "execution_count": 159,
   "metadata": {},
   "outputs": [],
   "source": [
    "#Venue Locations\n",
    "venue_locations = pd.read_sql_query(\"select id,latitude,longitude from venues\",conn)"
   ]
  },
  {
   "cell_type": "code",
   "execution_count": 185,
   "metadata": {},
   "outputs": [],
   "source": [
    "#User distance threshold is max distance between user and venue visited\n",
    "distance_threshold=dict()\n",
    "for user in top_10_checkins:\n",
    "    lat_u=user_locations.loc[user].latitude\n",
    "    lng_u=user_locations.loc[user].longitude\n",
    "\n",
    "    venues=list(venue_ratings[venue_ratings['user_id']==281].venue_id)\n",
    "    max_dist=0\n",
    "    for v in venues:\n",
    "        venue_locations.loc[v]\n",
    "        lat_v=venue_locations.loc[v].latitude\n",
    "        lng_v=venue_locations.loc[v].longitude\n",
    "        dist=hs.haversine((lat_u,lng_u),(lat_v,lng_v))\n",
    "        if dist > max_dist:\n",
    "            max_dist=dist\n",
    "\n",
    "    distance_threshold[user]=max_dist"
   ]
  },
  {
   "cell_type": "code",
   "execution_count": 177,
   "metadata": {},
   "outputs": [
    {
     "data": {
      "text/html": [
       "<div>\n",
       "<style scoped>\n",
       "    .dataframe tbody tr th:only-of-type {\n",
       "        vertical-align: middle;\n",
       "    }\n",
       "\n",
       "    .dataframe tbody tr th {\n",
       "        vertical-align: top;\n",
       "    }\n",
       "\n",
       "    .dataframe thead th {\n",
       "        text-align: right;\n",
       "    }\n",
       "</style>\n",
       "<table border=\"1\" class=\"dataframe\">\n",
       "  <thead>\n",
       "    <tr style=\"text-align: right;\">\n",
       "      <th></th>\n",
       "      <th>user_id</th>\n",
       "      <th>venue_id</th>\n",
       "      <th>rating</th>\n",
       "    </tr>\n",
       "  </thead>\n",
       "  <tbody>\n",
       "    <tr>\n",
       "      <th>0</th>\n",
       "      <td>1</td>\n",
       "      <td>1</td>\n",
       "      <td>5</td>\n",
       "    </tr>\n",
       "    <tr>\n",
       "      <th>1</th>\n",
       "      <td>1</td>\n",
       "      <td>51</td>\n",
       "      <td>4</td>\n",
       "    </tr>\n",
       "    <tr>\n",
       "      <th>2</th>\n",
       "      <td>1</td>\n",
       "      <td>51</td>\n",
       "      <td>2</td>\n",
       "    </tr>\n",
       "    <tr>\n",
       "      <th>3</th>\n",
       "      <td>1</td>\n",
       "      <td>51</td>\n",
       "      <td>5</td>\n",
       "    </tr>\n",
       "    <tr>\n",
       "      <th>4</th>\n",
       "      <td>1</td>\n",
       "      <td>52</td>\n",
       "      <td>5</td>\n",
       "    </tr>\n",
       "    <tr>\n",
       "      <th>...</th>\n",
       "      <td>...</td>\n",
       "      <td>...</td>\n",
       "      <td>...</td>\n",
       "    </tr>\n",
       "    <tr>\n",
       "      <th>2809575</th>\n",
       "      <td>2153498</td>\n",
       "      <td>91385</td>\n",
       "      <td>2</td>\n",
       "    </tr>\n",
       "    <tr>\n",
       "      <th>2809576</th>\n",
       "      <td>2153499</td>\n",
       "      <td>783</td>\n",
       "      <td>2</td>\n",
       "    </tr>\n",
       "    <tr>\n",
       "      <th>2809577</th>\n",
       "      <td>2153500</td>\n",
       "      <td>91385</td>\n",
       "      <td>2</td>\n",
       "    </tr>\n",
       "    <tr>\n",
       "      <th>2809578</th>\n",
       "      <td>2153501</td>\n",
       "      <td>68691</td>\n",
       "      <td>2</td>\n",
       "    </tr>\n",
       "    <tr>\n",
       "      <th>2809579</th>\n",
       "      <td>2153502</td>\n",
       "      <td>783</td>\n",
       "      <td>2</td>\n",
       "    </tr>\n",
       "  </tbody>\n",
       "</table>\n",
       "<p>2809580 rows × 3 columns</p>\n",
       "</div>"
      ],
      "text/plain": [
       "         user_id  venue_id  rating\n",
       "0              1         1       5\n",
       "1              1        51       4\n",
       "2              1        51       2\n",
       "3              1        51       5\n",
       "4              1        52       5\n",
       "...          ...       ...     ...\n",
       "2809575  2153498     91385       2\n",
       "2809576  2153499       783       2\n",
       "2809577  2153500     91385       2\n",
       "2809578  2153501     68691       2\n",
       "2809579  2153502       783       2\n",
       "\n",
       "[2809580 rows x 3 columns]"
      ]
     },
     "execution_count": 177,
     "metadata": {},
     "output_type": "execute_result"
    }
   ],
   "source": [
    "venue_ratings"
   ]
  },
  {
   "cell_type": "code",
   "execution_count": 172,
   "metadata": {},
   "outputs": [],
   "source": [
    "venue_locations=venue_locations.set_index('id')"
   ]
  },
  {
   "cell_type": "code",
   "execution_count": 24,
   "metadata": {},
   "outputs": [],
   "source": [
    "#reader\n",
    "reader = Reader(rating_scale=(min_rating, max_rating))"
   ]
  },
  {
   "cell_type": "code",
   "execution_count": 25,
   "metadata": {},
   "outputs": [],
   "source": [
    "# The columns  user id, venue_idand ratings .\n",
    "data = Dataset.load_from_df(venue_ratings[['user_id', 'venue_id', 'rating']], reader)"
   ]
  },
  {
   "cell_type": "code",
   "execution_count": 30,
   "metadata": {},
   "outputs": [
    {
     "name": "stdout",
     "output_type": "stream",
     "text": [
      "Evaluating RMSE, MAE of algorithm SVD on 5 split(s).\n",
      "\n",
      "                  Fold 1  Fold 2  Fold 3  Fold 4  Fold 5  Mean    Std     \n",
      "RMSE (testset)    0.7160  0.7145  0.7149  0.7144  0.7148  0.7149  0.0006  \n",
      "MAE (testset)     0.5463  0.5454  0.5455  0.5449  0.5453  0.5455  0.0005  \n",
      "Fit time          97.78   99.42   99.52   100.34  99.46   99.30   0.83    \n",
      "Test time         3.87    3.80    3.75    3.75    4.18    3.87    0.16    \n",
      "Evaluating RMSE, MAE of algorithm NMF on 5 split(s).\n",
      "\n",
      "                  Fold 1  Fold 2  Fold 3  Fold 4  Fold 5  Mean    Std     \n",
      "RMSE (testset)    1.0928  1.0936  1.0937  1.0938  1.0931  1.0934  0.0004  \n",
      "MAE (testset)     0.8799  0.8804  0.8813  0.8807  0.8800  0.8805  0.0005  \n",
      "Fit time          222.69  217.06  216.92  218.45  218.61  218.74  2.09    \n",
      "Test time         7.13    3.70    7.18    3.54    6.94    5.70    1.70    \n"
     ]
    },
    {
     "data": {
      "text/plain": [
       "{'test_rmse': array([1.092752  , 1.0936046 , 1.09369929, 1.09375522, 1.09308604]),\n",
       " 'test_mae': array([0.87988164, 0.88037258, 0.88132809, 0.88074617, 0.88001901]),\n",
       " 'fit_time': (222.68828773498535,\n",
       "  217.0562241077423,\n",
       "  216.91613388061523,\n",
       "  218.4487874507904,\n",
       "  218.61452746391296),\n",
       " 'test_time': (7.130717515945435,\n",
       "  3.70239520072937,\n",
       "  7.175108909606934,\n",
       "  3.535029649734497,\n",
       "  6.942584037780762)}"
      ]
     },
     "execution_count": 30,
     "metadata": {},
     "output_type": "execute_result"
    }
   ],
   "source": [
    "# find the best model \n",
    "# svd\n",
    "algo_svd = SVD()\n",
    "\n",
    "# Run 5-fold cross-validation and then print results\n",
    "cross_validate(algo_svd, data, measures=['RMSE', 'MAE'], cv=5, verbose=True)\n",
    "\n",
    "# nmf\n",
    "algo_nmf = NMF()\n",
    "# Run 5-fold cross-validation and then print results\n",
    "cross_validate(algo_nmf, data, measures=['RMSE', 'MAE'], cv=5, verbose=True)"
   ]
  },
  {
   "cell_type": "code",
   "execution_count": 31,
   "metadata": {},
   "outputs": [],
   "source": [
    "#SVD has lower RMSE so let's choose SVD"
   ]
  },
  {
   "cell_type": "code",
   "execution_count": 34,
   "metadata": {},
   "outputs": [],
   "source": [
    "#Fit on whole dataset\n",
    "model=algo_svd.fit(data.build_full_trainset())"
   ]
  },
  {
   "cell_type": "code",
   "execution_count": 208,
   "metadata": {},
   "outputs": [],
   "source": [
    "from collections import defaultdict\n",
    "#get top 10 predictions\n",
    "def get_top_n_geofenced(predictions, n=10,d_threshold=0.0,venue_locations=None,user_locations=None):\n",
    "    # First map the predictions to each user.\n",
    "\n",
    "    if d_threshold == 0.0:\n",
    "        # No Geo Fencing Required\n",
    "        top_n = defaultdict(list)\n",
    "        for uid, iid, true_r, est, _ in predictions:\n",
    "            top_n[uid].append((iid, est))\n",
    "\n",
    "        # Then sort the predictions for each user and retrieve the k highest ones.\n",
    "        for uid, user_ratings in top_n.items():\n",
    "            user_ratings.sort(key=lambda x: x[1], reverse=True)\n",
    "            top_n[uid] = user_ratings[:n]\n",
    "\n",
    "        return top_n\n",
    "    \n",
    "    else:\n",
    "        \n",
    "        # Threshold based prediction.Predictions are geo-fenced based on user chekin history\n",
    "        top_n = defaultdict(list)\n",
    "        \n",
    "        for uid, iid, true_r, est, _ in predictions:\n",
    "            lat_u=user_locations.loc[uid].latitude\n",
    "            lng_u=user_locations.loc[uid].longitude\n",
    "            \n",
    "            lat_v=venue_locations.loc[iid].latitude\n",
    "            lng_v=venue_locations.loc[iid].longitude\n",
    "\n",
    "            dist = hs.haversine((lat_v,lng_v),(lat_u,lng_u))\n",
    "           \n",
    "            if dist <= d_threshold:\n",
    "                top_n[uid].append((iid, est))\n",
    "\n",
    "        # Then sort the predictions for each user and retrieve the k highest ones.\n",
    "        for uid, user_ratings in top_n.items():\n",
    "            user_ratings.sort(key=lambda x: x[1], reverse=True)\n",
    "            top_n[uid] = user_ratings[:n]\n",
    "\n",
    "        return top_n"
   ]
  },
  {
   "cell_type": "code",
   "execution_count": 201,
   "metadata": {},
   "outputs": [],
   "source": [
    "#make recommendations\n",
    "all_venues = venue_ratings['venue_id'].unique()"
   ]
  },
  {
   "cell_type": "code",
   "execution_count": 212,
   "metadata": {},
   "outputs": [],
   "source": [
    "predictions_list = []\n",
    "for user_id in top_10_checkins:\n",
    "\n",
    "    rated_venues = venue_ratings.loc[venue_ratings['user_id']==user_id,'venue_id'].unique()\n",
    "    unrated_venues = np.setdiff1d(all_venues,rated_venues)\n",
    "    test_set = [[user_id,venue_id,2.] for venue_id in unrated_venues]\n",
    "    predictions=model.test(test_set)\n",
    "    predictions_list.append(get_top_n_geofenced(predictions,10,distance_threshold[user_id],venue_locations,user_locations))"
   ]
  },
  {
   "cell_type": "code",
   "execution_count": null,
   "metadata": {},
   "outputs": [],
   "source": []
  }
 ],
 "metadata": {
  "kernelspec": {
   "display_name": "Python 3",
   "language": "python",
   "name": "python3"
  },
  "language_info": {
   "codemirror_mode": {
    "name": "ipython",
    "version": 3
   },
   "file_extension": ".py",
   "mimetype": "text/x-python",
   "name": "python",
   "nbconvert_exporter": "python",
   "pygments_lexer": "ipython3",
   "version": "3.8.5"
  }
 },
 "nbformat": 4,
 "nbformat_minor": 4
}
